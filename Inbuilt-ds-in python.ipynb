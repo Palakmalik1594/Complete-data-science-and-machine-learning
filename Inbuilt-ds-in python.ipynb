{
 "cells": [
  {
   "cell_type": "markdown",
   "id": "e9c84079",
   "metadata": {},
   "source": [
    "LISTS"
   ]
  },
  {
   "cell_type": "code",
   "execution_count": null,
   "id": "acb92565",
   "metadata": {},
   "outputs": [],
   "source": [
    "#ordered,mutable(changable) collection of items\n",
    "#contain diff data types"
   ]
  },
  {
   "cell_type": "code",
   "execution_count": null,
   "id": "f12e0e78",
   "metadata": {},
   "outputs": [],
   "source": []
  },
  {
   "cell_type": "code",
   "execution_count": null,
   "id": "b45ea202",
   "metadata": {},
   "outputs": [
    {
     "name": "stdout",
     "output_type": "stream",
     "text": [
      "<class 'list'>\n",
      "1\n"
     ]
    }
   ],
   "source": [
    "lst=[1,2,3,4,5]\n",
    "print(type(lst))\n",
    "print(lst[0])"
   ]
  },
  {
   "cell_type": "code",
   "execution_count": 3,
   "id": "9530c887",
   "metadata": {},
   "outputs": [
    {
     "name": "stdout",
     "output_type": "stream",
     "text": [
      "[1, 2, 3, 4, 'palak', 'prisha']\n"
     ]
    }
   ],
   "source": [
    "l=[1,2,3,4,\"palak\",\"prisha\"]\n",
    "print(l)"
   ]
  },
  {
   "cell_type": "code",
   "execution_count": 3,
   "id": "888c7305",
   "metadata": {},
   "outputs": [
    {
     "name": "stdout",
     "output_type": "stream",
     "text": [
      "apple\n"
     ]
    }
   ],
   "source": [
    "#accessing list elements\n",
    "fruit=[\"apple\",\"banana\",\"cherry\"]\n",
    "print(fruit[0])\n",
    "#in python indexing starts from 0"
   ]
  },
  {
   "cell_type": "code",
   "execution_count": 4,
   "id": "c3b8c28d",
   "metadata": {},
   "outputs": [
    {
     "name": "stdout",
     "output_type": "stream",
     "text": [
      "cherry\n"
     ]
    }
   ],
   "source": [
    "#if you give -1 ,it will access last element\n",
    "print(fruit[-1])"
   ]
  },
  {
   "cell_type": "code",
   "execution_count": 5,
   "id": "25dee312",
   "metadata": {},
   "outputs": [
    {
     "name": "stdout",
     "output_type": "stream",
     "text": [
      "['banana', 'cherry']\n"
     ]
    }
   ],
   "source": [
    "#for accessing from any to last\n",
    "print(fruit[1:])"
   ]
  },
  {
   "cell_type": "code",
   "execution_count": 6,
   "id": "ca2a6272",
   "metadata": {},
   "outputs": [
    {
     "name": "stdout",
     "output_type": "stream",
     "text": [
      "['apple', 'watermelon', 'cherry']\n"
     ]
    }
   ],
   "source": [
    "#for changing elements\n",
    "fruit[1]=\"watermelon\"\n",
    "print(fruit)"
   ]
  },
  {
   "cell_type": "code",
   "execution_count": 7,
   "id": "04e5104a",
   "metadata": {},
   "outputs": [
    {
     "name": "stdout",
     "output_type": "stream",
     "text": [
      "['apple', 'kiwi', 'watermelon', 'cherry', 'orange']\n"
     ]
    }
   ],
   "source": [
    "#add an item to end\n",
    "fruit.append(\"orange\")\n",
    "#for adding at perticular index\n",
    "fruit.insert(1,\"kiwi\")\n",
    "print(fruit)"
   ]
  },
  {
   "cell_type": "code",
   "execution_count": 8,
   "id": "280ac16d",
   "metadata": {},
   "outputs": [
    {
     "name": "stdout",
     "output_type": "stream",
     "text": [
      "['apple', 'watermelon', 'cherry', 'orange']\n"
     ]
    }
   ],
   "source": [
    "fruit.remove(\"kiwi\")\n",
    "print(fruit)"
   ]
  },
  {
   "cell_type": "code",
   "execution_count": 9,
   "id": "124370ee",
   "metadata": {},
   "outputs": [
    {
     "name": "stdout",
     "output_type": "stream",
     "text": [
      "orange\n",
      "['apple', 'watermelon', 'cherry']\n"
     ]
    }
   ],
   "source": [
    "#remove and return last element\n",
    "f_p=fruit.pop()\n",
    "print(f_p)\n",
    "print(fruit)"
   ]
  },
  {
   "cell_type": "code",
   "execution_count": 10,
   "id": "58472739",
   "metadata": {},
   "outputs": [
    {
     "name": "stdout",
     "output_type": "stream",
     "text": [
      "2\n"
     ]
    }
   ],
   "source": [
    "#for getting index of element\n",
    "index=fruit.index(\"cherry\")\n",
    "print(index)"
   ]
  },
  {
   "cell_type": "code",
   "execution_count": 12,
   "id": "a8f9ae1c",
   "metadata": {},
   "outputs": [
    {
     "name": "stdout",
     "output_type": "stream",
     "text": [
      "['apple', 'watermelon', 'litchi', 'cherry']\n"
     ]
    }
   ],
   "source": [
    "fruit.insert(2,\"litchi\")\n",
    "print(fruit)"
   ]
  },
  {
   "cell_type": "code",
   "execution_count": 13,
   "id": "7645c5eb",
   "metadata": {},
   "outputs": [
    {
     "data": {
      "text/plain": [
       "['apple', 'cherry', 'litchi', 'watermelon']"
      ]
     },
     "execution_count": 13,
     "metadata": {},
     "output_type": "execute_result"
    }
   ],
   "source": [
    "fruit.sort()\n",
    "fruit"
   ]
  },
  {
   "cell_type": "code",
   "execution_count": 16,
   "id": "3adf8e7d",
   "metadata": {},
   "outputs": [
    {
     "data": {
      "text/plain": [
       "['watermelon', 'litchi', 'cherry', 'apple']"
      ]
     },
     "execution_count": 16,
     "metadata": {},
     "output_type": "execute_result"
    }
   ],
   "source": [
    "fruit.reverse()\n",
    "fruit"
   ]
  },
  {
   "cell_type": "code",
   "execution_count": 18,
   "id": "5087b0c2",
   "metadata": {},
   "outputs": [
    {
     "name": "stdout",
     "output_type": "stream",
     "text": [
      "[1, 2, 3, 4, 5]\n",
      "[6, 7, 8, 9]\n",
      "[1, 3, 5, 7, 9]\n",
      "[9, 7, 5, 3, 1]\n"
     ]
    }
   ],
   "source": [
    "#SLICING LIST\n",
    "number=[1,2,3,4,5,6,7,8,9]\n",
    "print(number[:5])\n",
    "print(number[5:])\n",
    "print(number[::2])\n",
    "print(number[::-2])\n"
   ]
  },
  {
   "cell_type": "code",
   "execution_count": 19,
   "id": "05a1ec0a",
   "metadata": {},
   "outputs": [
    {
     "name": "stdout",
     "output_type": "stream",
     "text": [
      "1\n",
      "2\n",
      "3\n",
      "4\n",
      "5\n",
      "6\n",
      "7\n",
      "8\n",
      "9\n"
     ]
    }
   ],
   "source": [
    "##Iterating over lists\n",
    "for nu in number:\n",
    "    print(nu)"
   ]
  },
  {
   "cell_type": "code",
   "execution_count": 20,
   "id": "d58a5ff6",
   "metadata": {},
   "outputs": [
    {
     "name": "stdout",
     "output_type": "stream",
     "text": [
      "0 1\n",
      "1 2\n",
      "2 3\n",
      "3 4\n",
      "4 5\n",
      "5 6\n",
      "6 7\n",
      "7 8\n",
      "8 9\n"
     ]
    }
   ],
   "source": [
    "##iterating wiyth index\n",
    "for index,nu in enumerate(number):\n",
    "    print(index,nu)"
   ]
  },
  {
   "cell_type": "code",
   "execution_count": 21,
   "id": "da811c9e",
   "metadata": {},
   "outputs": [
    {
     "name": "stdout",
     "output_type": "stream",
     "text": [
      "[0, 1, 4, 9, 16, 25, 36, 49, 64]\n"
     ]
    }
   ],
   "source": [
    "#list comprehension\n",
    "ls=[]\n",
    "for x in range(9):\n",
    "    ls.append(x**2)\n",
    "print(ls)"
   ]
  },
  {
   "cell_type": "code",
   "execution_count": 22,
   "id": "6576e2a1",
   "metadata": {},
   "outputs": [
    {
     "data": {
      "text/plain": [
       "[0, 1, 4, 9, 16, 25, 36, 49, 64, 81]"
      ]
     },
     "execution_count": 22,
     "metadata": {},
     "output_type": "execute_result"
    }
   ],
   "source": [
    "#short form of doing above code\n",
    "[x**2 for x in range(10)]"
   ]
  },
  {
   "cell_type": "code",
   "execution_count": null,
   "id": "df566760",
   "metadata": {},
   "outputs": [],
   "source": [
    "basic syantax          [expression for item in iterable]\n",
    "\n",
    "with conditional logic  [expression for item in iterable if condition]\n",
    "\n",
    "Nested list operation       [expression for item1 in iterable1 for item2 in iterable2]"
   ]
  },
  {
   "cell_type": "code",
   "execution_count": 25,
   "id": "fb86c588",
   "metadata": {},
   "outputs": [
    {
     "name": "stdout",
     "output_type": "stream",
     "text": [
      "[0, 1, 4, 9, 16, 25, 36, 49, 64, 81]\n"
     ]
    }
   ],
   "source": [
    "#basic list comprehension\n",
    "square=[num**2 for num in range(10)]\n",
    "print(square)"
   ]
  },
  {
   "cell_type": "code",
   "execution_count": 26,
   "id": "df7a3078",
   "metadata": {},
   "outputs": [
    {
     "name": "stdout",
     "output_type": "stream",
     "text": [
      "[0, 2, 4, 6, 8]\n"
     ]
    }
   ],
   "source": [
    "##list with condition\n",
    "ls=[]\n",
    "for i in range(10):\n",
    "    if i%2==0:\n",
    "        ls.append(i)\n",
    "\n",
    "print(ls)"
   ]
  },
  {
   "cell_type": "code",
   "execution_count": 27,
   "id": "f565655e",
   "metadata": {},
   "outputs": [
    {
     "name": "stdout",
     "output_type": "stream",
     "text": [
      "[0, 2, 4, 6, 8]\n"
     ]
    }
   ],
   "source": [
    "#using basic condition\n",
    "lss=[num for num in range(10) if num%2==0]\n",
    "print(lss)"
   ]
  },
  {
   "cell_type": "code",
   "execution_count": 29,
   "id": "71d391cd",
   "metadata": {},
   "outputs": [
    {
     "name": "stdout",
     "output_type": "stream",
     "text": [
      "[(1, 'a'), (1, 'b'), (1, 'c'), (1, 'd'), (2, 'a'), (2, 'b'), (2, 'c'), (2, 'd'), (3, 'a'), (3, 'b'), (3, 'c'), (3, 'd'), (4, 'a'), (4, 'b'), (4, 'c'), (4, 'd'), (5, 'a'), (5, 'b'), (5, 'c'), (5, 'd')]\n"
     ]
    }
   ],
   "source": [
    "#nested list comprehension\n",
    "lst=[1,2,3,4,5]\n",
    "lst2=['a','b','c','d']\n",
    "pair=[(i,j) for i in lst for j in lst2]\n",
    "print(pair)"
   ]
  },
  {
   "cell_type": "code",
   "execution_count": 30,
   "id": "35b1e228",
   "metadata": {},
   "outputs": [
    {
     "name": "stdout",
     "output_type": "stream",
     "text": [
      "[5, 5, 6]\n"
     ]
    }
   ],
   "source": [
    "#list comprehension with function calls\n",
    "words=[\"hello\",\"world\",\"python\"]\n",
    "lengths=[len(word) for word in words]\n",
    "print(lengths)"
   ]
  },
  {
   "cell_type": "markdown",
   "id": "2b3ecdbb",
   "metadata": {},
   "source": [
    "#tuples"
   ]
  },
  {
   "cell_type": "code",
   "execution_count": 33,
   "id": "2d3056c0",
   "metadata": {},
   "outputs": [
    {
     "name": "stdout",
     "output_type": "stream",
     "text": [
      "()\n",
      "<class 'tuple'>\n"
     ]
    }
   ],
   "source": [
    "empty_t=()\n",
    "print(empty_t)\n",
    "print(type(empty_t))"
   ]
  },
  {
   "cell_type": "code",
   "execution_count": 34,
   "id": "718bc71e",
   "metadata": {},
   "outputs": [
    {
     "name": "stdout",
     "output_type": "stream",
     "text": [
      "<class 'list'>\n",
      "<class 'tuple'>\n"
     ]
    }
   ],
   "source": [
    "lst=list()\n",
    "print(type(lst))\n",
    "tpl=tuple()\n",
    "print(type(tpl))"
   ]
  },
  {
   "cell_type": "code",
   "execution_count": 35,
   "id": "98021ef8",
   "metadata": {},
   "outputs": [
    {
     "data": {
      "text/plain": [
       "(1, 2, 3, 4, 5, 6)"
      ]
     },
     "execution_count": 35,
     "metadata": {},
     "output_type": "execute_result"
    }
   ],
   "source": [
    "numbers=tuple([1,2,3,4,5,6])\n",
    "numbers"
   ]
  },
  {
   "cell_type": "code",
   "execution_count": 36,
   "id": "af8bfe8a",
   "metadata": {},
   "outputs": [
    {
     "data": {
      "text/plain": [
       "list[1, 2, 3, 4, 5]"
      ]
     },
     "execution_count": 36,
     "metadata": {},
     "output_type": "execute_result"
    }
   ],
   "source": [
    "nu=list[(1,2,3,4,5)]\n",
    "nu"
   ]
  },
  {
   "cell_type": "code",
   "execution_count": 37,
   "id": "ae28e778",
   "metadata": {},
   "outputs": [
    {
     "data": {
      "text/plain": [
       "(1, 'hello', True)"
      ]
     },
     "execution_count": 37,
     "metadata": {},
     "output_type": "execute_result"
    }
   ],
   "source": [
    "mixed_tuple=(1,\"hello\",True)\n",
    "mixed_tuple"
   ]
  },
  {
   "cell_type": "code",
   "execution_count": 38,
   "id": "6ec5e889",
   "metadata": {},
   "outputs": [
    {
     "name": "stdout",
     "output_type": "stream",
     "text": [
      "3\n"
     ]
    }
   ],
   "source": [
    "#accessing tuple elements\n",
    "print(numbers[2])"
   ]
  },
  {
   "cell_type": "markdown",
   "id": "e03e1410",
   "metadata": {},
   "source": [
    "DICTIONARIES AND TUPLE ALSO WORK LIKE THIS ONLY ,HAS SAME FUNCTIONS ONLY"
   ]
  }
 ],
 "metadata": {
  "kernelspec": {
   "display_name": "Python 3",
   "language": "python",
   "name": "python3"
  },
  "language_info": {
   "codemirror_mode": {
    "name": "ipython",
    "version": 3
   },
   "file_extension": ".py",
   "mimetype": "text/x-python",
   "name": "python",
   "nbconvert_exporter": "python",
   "pygments_lexer": "ipython3",
   "version": "3.9.21"
  }
 },
 "nbformat": 4,
 "nbformat_minor": 5
}
