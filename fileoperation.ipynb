{
 "cells": [
  {
   "cell_type": "markdown",
   "id": "d66a6ed6",
   "metadata": {},
   "source": [
    "File operation- Read and Write Files"
   ]
  },
  {
   "cell_type": "markdown",
   "id": "fef56225",
   "metadata": {},
   "source": [
    "File handling is a crucial part of programming language.Python provides built in  functions and methods to read from and write to files,both text and binary. This lesson will cover basics of file handling , including reading and writing text files and binary files."
   ]
  },
  {
   "cell_type": "code",
   "execution_count": 21,
   "id": "ee48cbbd",
   "metadata": {},
   "outputs": [
    {
     "name": "stdout",
     "output_type": "stream",
     "text": [
      "hello everyone\n",
      "my name is palak\n"
     ]
    }
   ],
   "source": [
    "###read a whole file\n",
    "\n",
    "with open('example.txt','r') as file:\n",
    "    content=file.read()\n",
    "    print(content)"
   ]
  },
  {
   "cell_type": "code",
   "execution_count": 22,
   "id": "2e4984be",
   "metadata": {},
   "outputs": [
    {
     "name": "stdout",
     "output_type": "stream",
     "text": [
      "hello everyone\n",
      "my name is palak\n"
     ]
    }
   ],
   "source": [
    "#read a file line by line \n",
    "with open('example.txt','r') as file:\n",
    "    for line in file:\n",
    "        print(line.strip())\n",
    "        #print(line)   new line getting added\n"
   ]
  },
  {
   "cell_type": "code",
   "execution_count": 23,
   "id": "008d6d5b",
   "metadata": {},
   "outputs": [],
   "source": [
    "#writing a file(overwriting)\n",
    "with open('example.txt','w') as file:\n",
    "    file.write('hello everyone\\n')\n",
    "    file.write('my name is palak')\n",
    "\n"
   ]
  },
  {
   "cell_type": "code",
   "execution_count": 24,
   "id": "8af61f46",
   "metadata": {},
   "outputs": [],
   "source": [
    "#write a file without overwrite\n",
    "with open('example.txt','a') as file:\n",
    "    file.write('palku')"
   ]
  },
  {
   "cell_type": "code",
   "execution_count": 25,
   "id": "ac7e003d",
   "metadata": {},
   "outputs": [],
   "source": [
    "#writing list of lines to a file\n",
    "lines=['\\ni am writing this']\n",
    "with open('example.txt','a') as file:\n",
    "    file.writelines(lines)"
   ]
  },
  {
   "cell_type": "markdown",
   "id": "cd9b8946",
   "metadata": {},
   "source": [
    "Binary files(they are basically .bin files)"
   ]
  },
  {
   "cell_type": "code",
   "execution_count": 26,
   "id": "7df7f0f0",
   "metadata": {},
   "outputs": [],
   "source": [
    "#writing in a binary file\n",
    "data = b'\\x00\\x01\\x02\\x03\\x04\\x04'\n",
    "with open('example.bin','wb') as file:\n",
    "    file.write(data)"
   ]
  },
  {
   "cell_type": "code",
   "execution_count": 27,
   "id": "539ad585",
   "metadata": {},
   "outputs": [
    {
     "name": "stdout",
     "output_type": "stream",
     "text": [
      "b'\\x00\\x01\\x02\\x03\\x04\\x04'\n"
     ]
    }
   ],
   "source": [
    "#reading a binary file\n",
    "with open('example.bin','rb') as file:\n",
    "    content = file.read()\n",
    "    print(content)"
   ]
  },
  {
   "cell_type": "code",
   "execution_count": null,
   "id": "40a0268c",
   "metadata": {},
   "outputs": [],
   "source": [
    "#read the content froma a source text file and write to the destination text file\n",
    "#copying a text file\n"
   ]
  },
  {
   "cell_type": "code",
   "execution_count": 29,
   "id": "f2325180",
   "metadata": {},
   "outputs": [],
   "source": [
    "with open('example.txt','r') as source_file:\n",
    "    content=source_file.read();\n",
    "with open('destination.txt','w') as destination_file:\n",
    "    destination_file.write(content)"
   ]
  },
  {
   "cell_type": "code",
   "execution_count": 30,
   "id": "97d24565",
   "metadata": {},
   "outputs": [
    {
     "name": "stdout",
     "output_type": "stream",
     "text": [
      "Lines:3,Words: 10,Characters: 54\n"
     ]
    }
   ],
   "source": [
    "#read a text file and count the number of lines,words and characters\n",
    "def count_text_file(file_path):\n",
    "    with open(file_path,'r') as file:\n",
    "        lines=file.readlines()\n",
    "        line_count=len(lines)\n",
    "        word_count=sum(len(line.split()) for line in lines)\n",
    "        char_count=sum(len(line) for line in lines)\n",
    "    return line_count,word_count,char_count\n",
    "file_path='example.txt'\n",
    "lines,words,characters=count_text_file(file_path)\n",
    "print(f'Lines:{lines},Words: {words},Characters: {characters}')\n",
    "\n"
   ]
  },
  {
   "cell_type": "markdown",
   "id": "a661c573",
   "metadata": {},
   "source": [
    "the w+ file in python is used to open a file for both reading and writing .If the file does not exist,it will be created.If the file exists,its content is truncated(i.e, the file is over written)"
   ]
  },
  {
   "cell_type": "code",
   "execution_count": 34,
   "id": "4c279e1d",
   "metadata": {},
   "outputs": [
    {
     "name": "stdout",
     "output_type": "stream",
     "text": [
      "hello words\n",
      "this is a new line\n",
      "\n"
     ]
    }
   ],
   "source": [
    "#writing and then reading a file\n",
    "with open('example.txt','w+') as file:\n",
    "    file.write(\"hello words\\n\")\n",
    "    file.write(\"this is a new line\\n\")\n",
    "\n",
    "    ##move the file cursor to the beginning\n",
    "    file.seek(0)\n",
    "\n",
    "    ##read the content of file\n",
    "    content =file.read()\n",
    "    print(content)"
   ]
  }
 ],
 "metadata": {
  "kernelspec": {
   "display_name": "myenv",
   "language": "python",
   "name": "python3"
  },
  "language_info": {
   "codemirror_mode": {
    "name": "ipython",
    "version": 3
   },
   "file_extension": ".py",
   "mimetype": "text/x-python",
   "name": "python",
   "nbconvert_exporter": "python",
   "pygments_lexer": "ipython3",
   "version": "3.12.7"
  }
 },
 "nbformat": 4,
 "nbformat_minor": 5
}
