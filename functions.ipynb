{
 "cells": [
  {
   "cell_type": "markdown",
   "id": "9b0dd549",
   "metadata": {},
   "source": [
    "FUNCTIONS IN PYHTON\n"
   ]
  },
  {
   "cell_type": "markdown",
   "id": "2e67067c",
   "metadata": {},
   "source": [
    "function is a block of code which performs a specific task and it helps in organizing code ,reusing code and improving readibility.\n"
   ]
  },
  {
   "cell_type": "code",
   "execution_count": null,
   "id": "dd08e806",
   "metadata": {},
   "outputs": [],
   "source": [
    "##syntax \n",
    "def function_name(parameters):\n",
    "    \"\"\"Docstring\"\"\"\n",
    "    #funtion body\n",
    "    return expression"
   ]
  },
  {
   "cell_type": "code",
   "execution_count": null,
   "id": "30129e3a",
   "metadata": {},
   "outputs": [],
   "source": [
    "#why functions?\n",
    "#we do not have to create function again and again ,we can just use it again by calling that function name\n",
    "def eve_or_odd(num):\n",
    "    if num%2==0:\n",
    "        print(\"num is even\")\n",
    "    else:\n",
    "        print(\"num is odd\")\n",
    "\n",
    "    "
   ]
  },
  {
   "cell_type": "code",
   "execution_count": 2,
   "id": "602431a6",
   "metadata": {},
   "outputs": [
    {
     "name": "stdout",
     "output_type": "stream",
     "text": [
      "num is even\n"
     ]
    }
   ],
   "source": [
    "eve_or_odd(2134)"
   ]
  },
  {
   "cell_type": "code",
   "execution_count": 5,
   "id": "289100c9",
   "metadata": {},
   "outputs": [
    {
     "name": "stdout",
     "output_type": "stream",
     "text": [
      "6\n"
     ]
    }
   ],
   "source": [
    "#function with multiple parameters\n",
    "def add(a,b):\n",
    "    return a+b\n",
    "result=add(2,4)\n",
    "print(result)"
   ]
  }
 ],
 "metadata": {
  "kernelspec": {
   "display_name": "Python 3",
   "language": "python",
   "name": "python3"
  },
  "language_info": {
   "codemirror_mode": {
    "name": "ipython",
    "version": 3
   },
   "file_extension": ".py",
   "mimetype": "text/x-python",
   "name": "python",
   "nbconvert_exporter": "python",
   "pygments_lexer": "ipython3",
   "version": "3.9.21"
  }
 },
 "nbformat": 4,
 "nbformat_minor": 5
}
