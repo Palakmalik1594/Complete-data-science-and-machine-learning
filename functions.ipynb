{
 "cells": [
  {
   "cell_type": "markdown",
   "id": "9b0dd549",
   "metadata": {},
   "source": [
    "FUNCTIONS IN PYHTON\n"
   ]
  },
  {
   "cell_type": "markdown",
   "id": "2e67067c",
   "metadata": {},
   "source": [
    "function is a block of code which performs a specific task and it helps in organizing code ,reusing code and improving readibility.\n"
   ]
  },
  {
   "cell_type": "code",
   "execution_count": null,
   "id": "dd08e806",
   "metadata": {},
   "outputs": [],
   "source": [
    "##syntax \n",
    "def function_name(parameters):\n",
    "    \"\"\"Docstring\"\"\"\n",
    "    #funtion body\n",
    "    return expression"
   ]
  },
  {
   "cell_type": "code",
   "execution_count": null,
   "id": "30129e3a",
   "metadata": {},
   "outputs": [],
   "source": [
    "#why functions?\n",
    "#we do not have to create function again and again ,we can just use it again by calling that function name\n",
    "def eve_or_odd(num):\n",
    "    if num%2==0:\n",
    "        print(\"num is even\")\n",
    "    else:\n",
    "        print(\"num is odd\")\n",
    "\n",
    "    "
   ]
  },
  {
   "cell_type": "code",
   "execution_count": 2,
   "id": "602431a6",
   "metadata": {},
   "outputs": [
    {
     "name": "stdout",
     "output_type": "stream",
     "text": [
      "num is even\n"
     ]
    }
   ],
   "source": [
    "eve_or_odd(2134)"
   ]
  },
  {
   "cell_type": "code",
   "execution_count": 5,
   "id": "289100c9",
   "metadata": {},
   "outputs": [
    {
     "name": "stdout",
     "output_type": "stream",
     "text": [
      "6\n"
     ]
    }
   ],
   "source": [
    "#function with multiple parameters\n",
    "def add(a,b):\n",
    "    return a+b\n",
    "result=add(2,4)\n",
    "print(result)"
   ]
  },
  {
   "cell_type": "code",
   "execution_count": 3,
   "id": "5133d10e",
   "metadata": {},
   "outputs": [
    {
     "name": "stdout",
     "output_type": "stream",
     "text": [
      "hello {name}\n"
     ]
    }
   ],
   "source": [
    "#default parameters\n",
    "def greet(name=\"guest\"):\n",
    "    print(\"hello {name}\")\n",
    "\n",
    "greet()"
   ]
  },
  {
   "cell_type": "code",
   "execution_count": 4,
   "id": "78f500bb",
   "metadata": {},
   "outputs": [],
   "source": [
    "##variable length arguments\n",
    "##positional and keywords argumnets\n",
    "\n",
    "def print_numbers(*palak):\n",
    "    for numbers in palak:\n",
    "        print(numbers)"
   ]
  },
  {
   "cell_type": "code",
   "execution_count": 5,
   "id": "26e8f0a8",
   "metadata": {},
   "outputs": [
    {
     "name": "stdout",
     "output_type": "stream",
     "text": [
      "1\n",
      "2\n",
      "3\n",
      "4\n",
      "5\n",
      "6\n",
      "7\n",
      "8\n",
      "palak\n"
     ]
    }
   ],
   "source": [
    "print_numbers(1,2,3,4,5,6,7,8,\"palak\")"
   ]
  },
  {
   "cell_type": "code",
   "execution_count": null,
   "id": "1a24bdd3",
   "metadata": {},
   "outputs": [],
   "source": [
    "#positional arguments\n",
    "def print_numbers(*args):\n",
    "    for number in args:\n",
    "        print(number)"
   ]
  },
  {
   "cell_type": "code",
   "execution_count": 6,
   "id": "90919e87",
   "metadata": {},
   "outputs": [],
   "source": [
    "##keywords arguments\n",
    "#given by double star\n",
    "def print_val(**kwargs):\n",
    "    for key,value in kwargs.items():\n",
    "        print(f\"{key}:{value}\")"
   ]
  },
  {
   "cell_type": "code",
   "execution_count": 7,
   "id": "c693f325",
   "metadata": {},
   "outputs": [
    {
     "name": "stdout",
     "output_type": "stream",
     "text": [
      "name:palak\n",
      "age:23\n",
      "country:India\n"
     ]
    }
   ],
   "source": [
    "print_val(name=\"palak\",age=\"23\",country=\"India\")"
   ]
  },
  {
   "cell_type": "code",
   "execution_count": 9,
   "id": "780d32f2",
   "metadata": {},
   "outputs": [
    {
     "data": {
      "text/plain": [
       "(6, 2)"
      ]
     },
     "execution_count": 9,
     "metadata": {},
     "output_type": "execute_result"
    }
   ],
   "source": [
    "##return statement\n",
    "def nulti(a,b):\n",
    "    return a*b,a\n",
    "nulti(2,3)"
   ]
  },
  {
   "cell_type": "markdown",
   "id": "bd1ce5e2",
   "metadata": {},
   "source": [
    "LAMBDA FUNCTIONS IN PYHTON\n"
   ]
  },
  {
   "cell_type": "markdown",
   "id": "333b2883",
   "metadata": {},
   "source": [
    "lambda functions are small anonymous functions defined using lambda keyword.They can have any number of arguments but only one expression.They are commonly used for short operations or as arguments to higher order functions."
   ]
  },
  {
   "cell_type": "code",
   "execution_count": null,
   "id": "86ae4031",
   "metadata": {},
   "outputs": [],
   "source": [
    "#syntax\n",
    "lambda arguments: expression"
   ]
  },
  {
   "cell_type": "code",
   "execution_count": 10,
   "id": "cfabb90c",
   "metadata": {},
   "outputs": [],
   "source": [
    "def addition(a,b):\n",
    "    return a+b"
   ]
  },
  {
   "cell_type": "code",
   "execution_count": 11,
   "id": "cc0ea248",
   "metadata": {},
   "outputs": [
    {
     "data": {
      "text/plain": [
       "5"
      ]
     },
     "execution_count": 11,
     "metadata": {},
     "output_type": "execute_result"
    }
   ],
   "source": [
    "addition(2,3)"
   ]
  },
  {
   "cell_type": "code",
   "execution_count": 13,
   "id": "52208e98",
   "metadata": {},
   "outputs": [
    {
     "name": "stdout",
     "output_type": "stream",
     "text": [
      "<class 'function'>\n",
      "6\n"
     ]
    }
   ],
   "source": [
    "#use of lambda\n",
    "additions=lambda a,b:a+b\n",
    "print(type(additions))\n",
    "print(additions(2,4))"
   ]
  },
  {
   "cell_type": "code",
   "execution_count": 14,
   "id": "1c8a8276",
   "metadata": {},
   "outputs": [
    {
     "name": "stdout",
     "output_type": "stream",
     "text": [
      "True\n"
     ]
    }
   ],
   "source": [
    "check=lambda num:num%2==0\n",
    "print(check(24))"
   ]
  },
  {
   "cell_type": "code",
   "execution_count": 16,
   "id": "a22bf842",
   "metadata": {},
   "outputs": [
    {
     "name": "stdout",
     "output_type": "stream",
     "text": [
      "11\n"
     ]
    }
   ],
   "source": [
    "addition1=lambda x,y,z:x+y+z\n",
    "print(addition1(2,4,5))"
   ]
  },
  {
   "cell_type": "code",
   "execution_count": null,
   "id": "0b3cb5ad",
   "metadata": {},
   "outputs": [
    {
     "data": {
      "text/plain": [
       "4"
      ]
     },
     "execution_count": 17,
     "metadata": {},
     "output_type": "execute_result"
    }
   ],
   "source": [
    "##map()\n",
    "#it applies function call to all the items\n",
    "numbers=[1,2,3,4,5,60]\n",
    "def square(numbers):\n",
    "    return numbers**2\n",
    "square(2)\n"
   ]
  },
  {
   "cell_type": "code",
   "execution_count": 18,
   "id": "cdef705b",
   "metadata": {},
   "outputs": [
    {
     "data": {
      "text/plain": [
       "[1, 4, 9, 16, 25, 3600]"
      ]
     },
     "execution_count": 18,
     "metadata": {},
     "output_type": "execute_result"
    }
   ],
   "source": [
    "list(map(lambda x:x**2,numbers))"
   ]
  },
  {
   "cell_type": "markdown",
   "id": "a7df36fe",
   "metadata": {},
   "source": [
    "MAP\n"
   ]
  },
  {
   "cell_type": "markdown",
   "id": "91aef075",
   "metadata": {},
   "source": [
    "the map() function applies to a given function to all items in an input list and returns a map object (an iterator). This is particularly useful for transforming data in a list comprehensively."
   ]
  },
  {
   "cell_type": "code",
   "execution_count": 19,
   "id": "8cbb9977",
   "metadata": {},
   "outputs": [
    {
     "data": {
      "text/plain": [
       "16"
      ]
     },
     "execution_count": 19,
     "metadata": {},
     "output_type": "execute_result"
    }
   ],
   "source": [
    "def square(x):\n",
    "    return x*x\n",
    "square(4)"
   ]
  },
  {
   "cell_type": "code",
   "execution_count": 21,
   "id": "a65807d2",
   "metadata": {},
   "outputs": [
    {
     "data": {
      "text/plain": [
       "[1, 4, 9, 16, 25, 36, 49, 64, 81]"
      ]
     },
     "execution_count": 21,
     "metadata": {},
     "output_type": "execute_result"
    }
   ],
   "source": [
    "numbers=[1,2,3,4,5,6,7,8,9]\n",
    "list(map(square,numbers))\n"
   ]
  },
  {
   "cell_type": "code",
   "execution_count": 22,
   "id": "9acc0fa2",
   "metadata": {},
   "outputs": [
    {
     "data": {
      "text/plain": [
       "[1, 4, 9, 16, 25, 36, 49, 64, 81]"
      ]
     },
     "execution_count": 22,
     "metadata": {},
     "output_type": "execute_result"
    }
   ],
   "source": [
    "#lambda function with map\n",
    "list(map(lambda x:x*x,numbers))"
   ]
  },
  {
   "cell_type": "code",
   "execution_count": 23,
   "id": "6b73b23a",
   "metadata": {},
   "outputs": [
    {
     "name": "stdout",
     "output_type": "stream",
     "text": [
      "[5, 6, 8, 10]\n"
     ]
    }
   ],
   "source": [
    "#map miltiple iterables\n",
    "n1=[1,1,2,3]\n",
    "n2=[4,5,6,7]\n",
    "added=list(map(lambda x,y:x+y,n1,n2))\n",
    "print(added)\n"
   ]
  },
  {
   "cell_type": "code",
   "execution_count": 25,
   "id": "9b42260a",
   "metadata": {},
   "outputs": [
    {
     "name": "stdout",
     "output_type": "stream",
     "text": [
      "[1, 2]\n"
     ]
    }
   ],
   "source": [
    "#string to integer\n",
    "strr=['1','2']\n",
    "inti=list(map(int,strr))\n",
    "print(inti)"
   ]
  },
  {
   "cell_type": "code",
   "execution_count": 26,
   "id": "373575c6",
   "metadata": {},
   "outputs": [
    {
     "name": "stdout",
     "output_type": "stream",
     "text": [
      "['APPLE']\n"
     ]
    }
   ],
   "source": [
    "words=['apple']\n",
    "upper_W=list(map(str.upper,words))\n",
    "print(upper_W)"
   ]
  },
  {
   "cell_type": "code",
   "execution_count": 28,
   "id": "41784106",
   "metadata": {},
   "outputs": [
    {
     "data": {
      "text/plain": [
       "['palak', 'rita']"
      ]
     },
     "execution_count": 28,
     "metadata": {},
     "output_type": "execute_result"
    }
   ],
   "source": [
    "def get_name(person):\n",
    "    return person['name']\n",
    "people=[\n",
    "    {'name':'palak','age':21},\n",
    "    {'name':'rita','age':21}\n",
    "]\n",
    "list(map(get_name,people))"
   ]
  },
  {
   "cell_type": "markdown",
   "id": "fade7f54",
   "metadata": {},
   "source": [
    "FILTER FUNCTION"
   ]
  },
  {
   "cell_type": "markdown",
   "id": "30da993d",
   "metadata": {},
   "source": [
    "filter() function constructs an iterator from elements of an iterable which a function returns true,it is used to filter out items from a list based on condition."
   ]
  },
  {
   "cell_type": "code",
   "execution_count": 29,
   "id": "40590d39",
   "metadata": {},
   "outputs": [],
   "source": [
    "def even(num):\n",
    "    if num%2==0:\n",
    "        return True"
   ]
  },
  {
   "cell_type": "code",
   "execution_count": 30,
   "id": "8a77887e",
   "metadata": {},
   "outputs": [
    {
     "data": {
      "text/plain": [
       "True"
      ]
     },
     "execution_count": 30,
     "metadata": {},
     "output_type": "execute_result"
    }
   ],
   "source": [
    "even(24)"
   ]
  },
  {
   "cell_type": "code",
   "execution_count": 31,
   "id": "1642b50a",
   "metadata": {},
   "outputs": [
    {
     "data": {
      "text/plain": [
       "[2, 4, 56, 8]"
      ]
     },
     "execution_count": 31,
     "metadata": {},
     "output_type": "execute_result"
    }
   ],
   "source": [
    "lst=[91,2,3,4,56,7,8,9]\n",
    "list(filter(even,lst))"
   ]
  },
  {
   "cell_type": "code",
   "execution_count": 33,
   "id": "71002b13",
   "metadata": {},
   "outputs": [
    {
     "name": "stdout",
     "output_type": "stream",
     "text": [
      "[6, 7, 8, 9]\n"
     ]
    }
   ],
   "source": [
    "#filter with a lambda function\n",
    "n=[1,2,3,4,5,6,7,8,9]\n",
    "greaters=list(filter(lambda x:x>5,n))\n",
    "print(greaters)\n"
   ]
  },
  {
   "cell_type": "code",
   "execution_count": 34,
   "id": "6c43add3",
   "metadata": {},
   "outputs": [
    {
     "name": "stdout",
     "output_type": "stream",
     "text": [
      "[6, 8, 10]\n"
     ]
    }
   ],
   "source": [
    "#filter with lambda and multiple conditions\n",
    "numbers=[1,2,3,4,5,6,7,8,9,10]\n",
    "eve=list(filter(lambda x:x>5 and x%2==0,numbers))\n",
    "print(eve)"
   ]
  },
  {
   "cell_type": "code",
   "execution_count": 35,
   "id": "bc74aad0",
   "metadata": {},
   "outputs": [
    {
     "data": {
      "text/plain": [
       "[{'name': 'palak', 'age': 32}, {'name': 'palak', 'age': 22}]"
      ]
     },
     "execution_count": 35,
     "metadata": {},
     "output_type": "execute_result"
    }
   ],
   "source": [
    "#filter to check if age is greater than 25 in dictionaries\n",
    "people=[\n",
    "    {'name':'palak','age':12},\n",
    "    {'name':'palak','age':32},\n",
    "    {'name':'palak','age':22}\n",
    "\n",
    "]\n",
    "def age_g(person):\n",
    "    return person['age']>20\n",
    "list(filter(age_g,people))"
   ]
  },
  {
   "cell_type": "markdown",
   "id": "182385b6",
   "metadata": {},
   "source": [
    "filter() function is powerful in creating iterators that filter item fout of iterators based in function."
   ]
  }
 ],
 "metadata": {
  "kernelspec": {
   "display_name": "myenv",
   "language": "python",
   "name": "python3"
  },
  "language_info": {
   "codemirror_mode": {
    "name": "ipython",
    "version": 3
   },
   "file_extension": ".py",
   "mimetype": "text/x-python",
   "name": "python",
   "nbconvert_exporter": "python",
   "pygments_lexer": "ipython3",
   "version": "3.12.7"
  }
 },
 "nbformat": 4,
 "nbformat_minor": 5
}
